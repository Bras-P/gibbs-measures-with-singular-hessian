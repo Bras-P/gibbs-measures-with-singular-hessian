{
 "cells": [
  {
   "cell_type": "markdown",
   "id": "98f103aa",
   "metadata": {},
   "source": [
    "<h1>Computing expansion of the loss function up to order 4</h1>\n",
    "\n",
    "We refer to https://www.e-publications.org/ims/submission/BEJ/user/submissionFile/49843?confirm=55a2fac1.\n",
    "In this notebook, we show how we can compute the higher order nested expansion of some objective function to be minimized. In some real-life problems, the Hessian matrix can be singular at the minimum so we need to investigate higher order derivative tensors."
   ]
  },
  {
   "cell_type": "markdown",
   "id": "f7ed34cd",
   "metadata": {},
   "source": [
    "<h3>Imports</h3>"
   ]
  },
  {
   "cell_type": "code",
   "execution_count": 1,
   "id": "eebf0f48",
   "metadata": {},
   "outputs": [],
   "source": [
    "import matplotlib.pyplot as plt\n",
    "import numpy as np\n",
    "import tensorflow as tf"
   ]
  },
  {
   "cell_type": "markdown",
   "id": "49948b5b",
   "metadata": {},
   "source": [
    "<h3>Data and model</h3>"
   ]
  },
  {
   "cell_type": "code",
   "execution_count": 14,
   "id": "6fe06936",
   "metadata": {},
   "outputs": [],
   "source": [
    "(features, labels), _ = tf.keras.datasets.mnist.load_data()\n",
    "features = features / 255.0\n",
    "features = features.reshape((features.shape[0],28,28,1))\n",
    "\n",
    "model = tf.keras.Sequential([\n",
    "  tf.keras.layers.Flatten(),\n",
    "  tf.keras.layers.Dense(16, activation='relu'),\n",
    "  tf.keras.layers.Dense(16, activation='relu'),\n",
    "  tf.keras.layers.Dense(10)\n",
    "])\n",
    "\n",
    "model.compile(optimizer='adam', loss=tf.keras.losses.SparseCategoricalCrossentropy(from_logits=True), metrics=['accuracy'])"
   ]
  },
  {
   "cell_type": "markdown",
   "id": "a886fe70",
   "metadata": {},
   "source": [
    "<h3>Fit the model</h3>\n",
    "and get x_star which is the minimizer of the loss."
   ]
  },
  {
   "cell_type": "code",
   "execution_count": 15,
   "id": "a570131a",
   "metadata": {},
   "outputs": [],
   "source": [
    "model.fit(features, labels, batch_size=32, epochs=30, verbose=0)\n",
    "x_star = [[weight for weight in layer.weights] for layer in model.layers]"
   ]
  },
  {
   "cell_type": "markdown",
   "id": "8c4466c5",
   "metadata": {},
   "source": [
    "<h3>Compute the Hessian matrix of the loss</h3>\n",
    "We compute the Hessian matrix of the loss with respect to the kernel of the second Dense layer, as we cannot compute the whole Hessian matrix with respect to all the variables.\n",
    "\n",
    "We use np.linalg.eig giving the eigenvalues and the eigenvectors of the Hessian matrix. We need to use tf.GradientTape.jacobian instead of tf.GradientTape.gradient since the later can only compute the gradient of a scalar (and not the jacobian of a tensor).\n",
    "\n",
    "We then select two direction vectors belonging to the kernel of the second Dense layer ; we will then compute the gradient and higher derivative tensors (up to the order four) w.r.t. to these two vectors only."
   ]
  },
  {
   "cell_type": "code",
   "execution_count": 35,
   "id": "d7df03ed",
   "metadata": {},
   "outputs": [],
   "source": [
    "loss_object = tf.keras.losses.SparseCategoricalCrossentropy(from_logits=True)\n",
    "\n",
    "def loss(model, x, y):\n",
    "  y_ = model(x)\n",
    "  return loss_object(y_true=y, y_pred=y_)\n",
    "\n",
    "# we compute the Hessian matrix with respect to the kernel matrix of the second Dense layer\n",
    "def T2_compute(model, inputs, targets, nb):\n",
    "    with tf.GradientTape() as g1:\n",
    "        with tf.GradientTape() as g2:\n",
    "            loss_value = loss(model, inputs, targets)\n",
    "        grads = g2.gradient(loss_value, model.trainable_variables[nb])\n",
    "    hess_matrix = g1.jacobian(grads, model.trainable_variables[nb])\n",
    "    return hess_matrix\n",
    "\n",
    "hessian = T2_compute(model, features, labels, -4)\n",
    "hessian = tf.reshape(hessian, [hessian.shape[0]*hessian.shape[1],hessian.shape[0]*hessian.shape[1]])\n",
    "hessian_np = np.array(hessian)\n",
    "w, v = np.linalg.eig(hessian_np)\n",
    "w, v = np.real(w), np.real(v)\n",
    "# we take the real part as some eigenvalues may be complex due to numerical error"
   ]
  },
  {
   "cell_type": "code",
   "execution_count": 36,
   "id": "99d6b606",
   "metadata": {},
   "outputs": [],
   "source": [
    "# we choose two direction eigenvectors, one with non-zero eigenvalue and the other one with zero eigenvalue.\n",
    "index = np.argmax(w<1e-6)\n",
    "direction_vectors = tf.stack([v[:,index-1], v[:,index+1]])\n",
    "nb_directions = direction_vectors.shape[0]"
   ]
  },
  {
   "cell_type": "code",
   "execution_count": 39,
   "id": "ad122586",
   "metadata": {
    "scrolled": true
   },
   "outputs": [
    {
     "data": {
      "image/png": "[encoded data removed]",
      "text/plain": [
       "<Figure size 432x288 with 1 Axes>"
      ]
     },
     "metadata": {
      "needs_background": "light"
     },
     "output_type": "display_data"
    },
    {
     "name": "stdout",
     "output_type": "stream",
     "text": [
      "[3.15813255e+00 2.25391889e+00 2.15384388e+00 1.99351418e+00\n",
      " 1.69402933e+00 1.57552505e+00 1.27419889e+00 1.07338202e+00\n",
      " 6.40094340e-01 5.06736159e-01 4.86038148e-01 4.18705821e-01\n",
      " 3.79946589e-01 3.09994966e-01 2.91308343e-01 2.52507776e-01\n",
      " 2.43038386e-01 2.30396152e-01 2.28465006e-01 2.01890990e-01\n",
      " 1.93474591e-01 1.89883307e-01 1.72230050e-01 1.65611193e-01\n",
      " 1.60776019e-01 1.53749824e-01 1.53215364e-01 1.46760583e-01\n",
      " 1.44898981e-01 1.38880402e-01 1.24889910e-01 1.22316323e-01\n",
      " 1.20219991e-01 1.15891546e-01 1.12791896e-01 1.06174216e-01\n",
      " 1.02588274e-01 1.00548893e-01 9.86980647e-02 9.50031504e-02\n",
      " 9.47428867e-02 9.08789709e-02 8.70535299e-02 8.59006718e-02\n",
      " 8.17227960e-02 7.97398612e-02 7.84959644e-02 7.71653131e-02\n",
      " 7.42917359e-02 7.22121447e-02 7.09306970e-02 6.98205680e-02\n",
      " 6.72733113e-02 6.71560615e-02 6.43239766e-02 6.38446063e-02\n",
      " 6.08163700e-02 5.97766824e-02 5.86721338e-02 5.82756959e-02\n",
      " 5.51965721e-02 5.31213991e-02 5.17326333e-02 5.14742844e-02\n",
      " 5.07918485e-02 4.96733300e-02 4.84001487e-02 4.68656011e-02\n",
      " 4.53560501e-02 4.48610932e-02 4.40160073e-02 4.32742648e-02\n",
      " 4.22080345e-02 4.08011787e-02 4.03191745e-02 3.90245914e-02\n",
      " 3.84629741e-02 3.75460945e-02 3.64468172e-02 3.57417762e-02\n",
      " 3.54363397e-02 3.46958898e-02 3.44275013e-02 3.37757729e-02\n",
      " 3.15907933e-02 3.26730087e-02 3.21250111e-02 3.23172100e-02\n",
      " 3.03861219e-02 2.98408624e-02 2.94668712e-02 2.89089605e-02\n",
      " 2.84426045e-02 2.77641285e-02 2.73208190e-02 2.66072638e-02\n",
      " 2.62606423e-02 2.49106809e-02 2.54114252e-02 2.56134942e-02\n",
      " 2.46865414e-02 2.42786799e-02 2.41182968e-02 2.35667080e-02\n",
      " 2.32293643e-02 2.31272858e-02 2.23401841e-02 2.22174805e-02\n",
      " 2.14050375e-02 2.10047178e-02 2.04948504e-02 2.00425033e-02\n",
      " 1.97778344e-02 1.96059607e-02 1.89304985e-02 1.88095663e-02\n",
      " 1.85644198e-02 1.83152799e-02 1.76750496e-02 1.78868305e-02\n",
      " 1.80720817e-02 3.33466014e-04 1.71144307e-02 1.65612064e-02\n",
      " 1.64203215e-02 1.60297863e-02 1.59255732e-02 1.52418800e-02\n",
      " 1.54372891e-02 1.53878275e-02 1.45085892e-02 1.47750201e-02\n",
      " 5.10795740e-04 1.44740986e-02 1.40539249e-02 1.39129553e-02\n",
      " 1.38994940e-02 1.33179780e-02 1.30765084e-02 1.29287988e-02\n",
      " 1.28470231e-02 1.26697132e-02 1.25052473e-02 1.23585397e-02\n",
      " 1.20978793e-02 6.44446583e-04 7.79704482e-04 8.81362066e-04\n",
      " 9.42515559e-04 1.03213056e-03 1.20210368e-03 1.30956713e-03\n",
      " 1.18908817e-02 1.16994530e-02 1.15185333e-02 1.07823201e-02\n",
      " 1.09586604e-02 1.13383308e-02 1.13136973e-02 1.05158072e-02\n",
      " 1.02912877e-02 1.00824712e-02 1.02485167e-02 9.72534344e-03\n",
      " 9.43501294e-03 9.23985895e-03 9.34076216e-03 9.28433053e-03\n",
      " 1.40903727e-03 1.42683741e-03 1.47414394e-03 2.05363845e-03\n",
      " 1.61876483e-03 1.65877014e-03 1.69566344e-03 1.73430773e-03\n",
      " 1.79201493e-03 1.93227886e-03 1.86818861e-03 8.69235676e-03\n",
      " 8.82015936e-03 2.01959931e-03 2.24640616e-03 8.56321678e-03\n",
      " 8.85358453e-03 8.17968789e-03 8.02995544e-03 2.28564884e-03\n",
      " 2.43769307e-03 8.47097114e-03 7.75465835e-03 7.53721548e-03\n",
      " 7.37511832e-03 7.68780708e-03 2.56579369e-03 2.88828416e-03\n",
      " 2.79932213e-03 2.74931057e-03 2.68274546e-03 7.84743577e-03\n",
      " 7.20554031e-03 6.73174672e-03 6.47555105e-03 6.31759036e-03\n",
      " 2.52629793e-03 2.99507403e-03 3.09124961e-03 3.20807029e-03\n",
      " 3.26252449e-03 7.09098810e-03 6.86427625e-03 6.16250141e-03\n",
      " 7.11718900e-03 3.47231957e-03 5.91059728e-03 5.78574045e-03\n",
      " 6.11959072e-03 5.68151847e-03 3.54665192e-03 5.50261699e-03\n",
      " 3.88450827e-03 4.18729894e-03 4.33547655e-03 4.45713243e-03\n",
      " 4.63101547e-03 4.72119497e-03 5.08744922e-03 4.92906198e-03\n",
      " 4.86850133e-03 4.09838744e-03 5.12690470e-03 3.97653086e-03\n",
      " 3.39448638e-03 3.60127399e-03 5.43352636e-03 5.40309353e-03\n",
      " 5.29802963e-03 3.82275949e-03 3.75442021e-03 3.74351512e-03\n",
      " 0.00000000e+00 0.00000000e+00 0.00000000e+00 0.00000000e+00\n",
      " 0.00000000e+00 0.00000000e+00 0.00000000e+00 0.00000000e+00\n",
      " 0.00000000e+00 0.00000000e+00 0.00000000e+00 0.00000000e+00\n",
      " 0.00000000e+00 0.00000000e+00 0.00000000e+00 0.00000000e+00]\n"
     ]
    }
   ],
   "source": [
    "w_hist = np.where(w>0., w, 1e-10)\n",
    "\n",
    "bins = 10.**(np.arange(-10,1))\n",
    "plt.xscale('log')\n",
    "plt.hist(w_hist, bins=bins, edgecolor='#169acf', linewidth=2.)\n",
    "plt.title(\"Distribution of the eigenvalues of the Hessian matrix\")\n",
    "plt.show()\n",
    "\n",
    "print(w)"
   ]
  },
  {
   "cell_type": "markdown",
   "id": "6d2e0a5d",
   "metadata": {},
   "source": [
    "In the histogram, we can see a gap in the spectrum, between non-zero eigenvalues and eigenvalues which are actually equal to zero (but may be not displayed as exactly zero due to numerical error)."
   ]
  },
  {
   "cell_type": "markdown",
   "id": "a2475fcb",
   "metadata": {},
   "source": [
    "<h3>Custom layer</h3>\n",
    "We make a custom layer which replaces the Dense layer in order to compute the derivatives tensors w.r.t. some direction vectors only."
   ]
  },
  {
   "cell_type": "code",
   "execution_count": 20,
   "id": "32429145",
   "metadata": {},
   "outputs": [],
   "source": [
    "class CustomLayer(tf.keras.layers.Layer):\n",
    "  def __init__(self, x_star, direction_vectors, activation=None):\n",
    "    super(CustomLayer, self).__init__()\n",
    "    self.x_star = x_star # x_star[0] is the kernel matrix and x_star[1] is the bias\n",
    "    self.direction_vectors = tf.reshape(direction_vectors, [direction_vectors.shape[0], x_star[0].shape[0], x_star[0].shape[1]])\n",
    "    self.activation = activation\n",
    "#\n",
    "  def build(self, input_shape):\n",
    "    self.kernel = self.add_weight(\"kernel\", shape = [direction_vectors.shape[0],])\n",
    "#\n",
    "  def call(self, inputs):\n",
    "    outputs = tf.matmul(inputs, self.x_star[0] + tf.tensordot(self.kernel, self.direction_vectors, axes=[[0],[0]])) + self.x_star[1]\n",
    "    if self.activation is not None:\n",
    "        outputs = self.activation(outputs)\n",
    "    return outputs"
   ]
  },
  {
   "cell_type": "markdown",
   "id": "44f11154",
   "metadata": {},
   "source": [
    "Then build model_c which is used to compute the derivatives in x_star.\n",
    "We set its weights to x_star."
   ]
  },
  {
   "cell_type": "code",
   "execution_count": 23,
   "id": "01ff8d44",
   "metadata": {},
   "outputs": [],
   "source": [
    "model_c = tf.keras.Sequential([\n",
    "  tf.keras.layers.Flatten(),\n",
    "  tf.keras.layers.Dense(16, activation='relu'),\n",
    "  CustomLayer([tf.convert_to_tensor(x_star[-2][0]), tf.convert_to_tensor(x_star[-2][1])], direction_vectors),\n",
    "  tf.keras.layers.Dense(10)\n",
    "])\n",
    "\n",
    "model_c.compile(optimizer='adam', loss=tf.keras.losses.SparseCategoricalCrossentropy(from_logits=True))\n",
    "model_c(features) # only for building the model\n",
    "\n",
    "nb_layer = 2\n",
    "for k in [i for i in range(len(model_c.layers)) if i != nb_layer]:\n",
    "    model_c.layers[k].set_weights(x_star[k])\n",
    "\n",
    "model_c.layers[nb_layer].set_weights([tf.zeros([nb_directions,])]) # we take the derivative in 0."
   ]
  },
  {
   "cell_type": "markdown",
   "id": "37e52aac",
   "metadata": {},
   "source": [
    "We compute the derivatives tensors of order 2, 3 and 4 by stacking tf.GradientTape()'s."
   ]
  },
  {
   "cell_type": "code",
   "execution_count": 24,
   "id": "dcaa4b74",
   "metadata": {},
   "outputs": [],
   "source": [
    "def T4_compute(model, inputs, targets, nb):\n",
    "    with tf.GradientTape() as g1:\n",
    "        with tf.GradientTape() as g2:\n",
    "            with tf.GradientTape() as g3:\n",
    "                with tf.GradientTape() as g4:\n",
    "                    loss_value = loss(model, inputs, targets)\n",
    "                grads = g4.gradient(loss_value, model.trainable_variables[nb])\n",
    "            hess_matrix = g3.jacobian(grads, model.trainable_variables[nb])\n",
    "        tensor_3 = g2.jacobian(hess_matrix, model.trainable_variables[nb])\n",
    "    tensor_4 = g1.jacobian(tensor_3, model.trainable_variables[nb])\n",
    "    return hess_matrix, tensor_3, tensor_4\n",
    "\n",
    "T2, T3, T4 = T4_compute(model_c, features, labels, -3)"
   ]
  },
  {
   "cell_type": "markdown",
   "id": "51b3b5f6",
   "metadata": {},
   "source": [
    "We then compute the coefficients appearing in the expansion up to order 4\n",
    "(see for example https://arxiv.org/pdf/2101.11557.pdf, Equation (18)) by computing the tensor product with the direction vectors."
   ]
  },
  {
   "cell_type": "code",
   "execution_count": 25,
   "id": "28331961",
   "metadata": {},
   "outputs": [],
   "source": [
    "e = tf.constant([1.,0.])\n",
    "f = tf.constant([0.,1.])\n",
    "\n",
    "e2 = tf.tensordot(tf.reshape(e, [1,2]), tf.reshape(e, [1,2]), [[0], [0]])\n",
    "coeff_T2 = 0.5 * tf.tensordot(T2, e2, [[0,1], [0,1]])\n",
    "\n",
    "f2 = tf.tensordot(tf.reshape(f, [1,2]), tf.reshape(f, [1,2]), [[0], [0]])\n",
    "ef2 = tf.tensordot(tf.reshape(e, [1,2]), tf.reshape(f2, [1,2,2]), [[0], [0]])\n",
    "coeff_T3 = 0.5 * tf.tensordot(T3, ef2, [[0,1,2], [0,1,2]])\n",
    "\n",
    "f4 = tf.tensordot(tf.reshape(f2, [1,2,2]), tf.reshape(f2, [1,2,2]), [[0], [0]])\n",
    "coeff_T4 = (1./24.) * tf.tensordot(T4, f4, [[0,1,2,3], [0,1,2,3]])"
   ]
  },
  {
   "cell_type": "code",
   "execution_count": 26,
   "id": "d68c1829",
   "metadata": {},
   "outputs": [
    {
     "data": {
      "text/plain": [
       "(<tf.Tensor: shape=(), dtype=float32, numpy=0.026905548>,\n",
       " <tf.Tensor: shape=(), dtype=float32, numpy=-0.0007531713>,\n",
       " <tf.Tensor: shape=(), dtype=float32, numpy=-3.2213422e-05>)"
      ]
     },
     "execution_count": 26,
     "metadata": {},
     "output_type": "execute_result"
    }
   ],
   "source": [
    "coeff_T2, coeff_T3, coeff_T4"
   ]
  }
 ],
 "metadata": {
  "kernelspec": {
   "display_name": "Python 3 (ipykernel)",
   "language": "python",
   "name": "python3"
  },
  "language_info": {
   "codemirror_mode": {
    "name": "ipython",
    "version": 3
   },
   "file_extension": ".py",
   "mimetype": "text/x-python",
   "name": "python",
   "nbconvert_exporter": "python",
   "pygments_lexer": "ipython3",
   "version": "3.8.6"
  }
 },
 "nbformat": 4,
 "nbformat_minor": 5
}
